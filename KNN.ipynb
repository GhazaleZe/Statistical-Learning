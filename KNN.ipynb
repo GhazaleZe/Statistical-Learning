{
 "cells": [
  {
   "cell_type": "code",
   "execution_count": 3,
   "metadata": {
    "collapsed": true,
    "pycharm": {
     "name": "#%%\n"
    }
   },
   "outputs": [],
   "source": []
  },
  {
   "cell_type": "code",
   "execution_count": 4,
   "outputs": [
    {
     "data": {
      "text/plain": "         X       Y  Class\n0   1.5844  34.234      1\n1  36.2470  22.155      2\n2   7.2079  21.783      2\n3  31.7960  39.651      3\n4  39.4920  40.778      1",
      "text/html": "<div>\n<style scoped>\n    .dataframe tbody tr th:only-of-type {\n        vertical-align: middle;\n    }\n\n    .dataframe tbody tr th {\n        vertical-align: top;\n    }\n\n    .dataframe thead th {\n        text-align: right;\n    }\n</style>\n<table border=\"1\" class=\"dataframe\">\n  <thead>\n    <tr style=\"text-align: right;\">\n      <th></th>\n      <th>X</th>\n      <th>Y</th>\n      <th>Class</th>\n    </tr>\n  </thead>\n  <tbody>\n    <tr>\n      <th>0</th>\n      <td>1.5844</td>\n      <td>34.234</td>\n      <td>1</td>\n    </tr>\n    <tr>\n      <th>1</th>\n      <td>36.2470</td>\n      <td>22.155</td>\n      <td>2</td>\n    </tr>\n    <tr>\n      <th>2</th>\n      <td>7.2079</td>\n      <td>21.783</td>\n      <td>2</td>\n    </tr>\n    <tr>\n      <th>3</th>\n      <td>31.7960</td>\n      <td>39.651</td>\n      <td>3</td>\n    </tr>\n    <tr>\n      <th>4</th>\n      <td>39.4920</td>\n      <td>40.778</td>\n      <td>1</td>\n    </tr>\n  </tbody>\n</table>\n</div>"
     },
     "execution_count": 4,
     "metadata": {},
     "output_type": "execute_result"
    }
   ],
   "source": [
    "import pandas as pd\n",
    "import numpy as np\n",
    "from scipy.spatial import distance\n",
    "from collections import Counter\n",
    "\n",
    "df_data = pd.read_csv('Datamat.csv')\n",
    "test = pd.read_csv('Querymat.csv')\n",
    "df_data.columns = ['X', 'Y', 'Class']\n",
    "\n",
    "\n",
    "df_data.head()\n",
    "\n",
    "\n",
    "\n"
   ],
   "metadata": {
    "collapsed": false,
    "pycharm": {
     "name": "#%%\n"
    }
   }
  },
  {
   "cell_type": "code",
   "execution_count": 5,
   "outputs": [
    {
     "data": {
      "text/plain": "         X       Y\n0   1.5844  34.234\n1  36.2470  22.155\n2   7.2079  21.783\n3  31.7960  39.651\n4  39.4920  40.778",
      "text/html": "<div>\n<style scoped>\n    .dataframe tbody tr th:only-of-type {\n        vertical-align: middle;\n    }\n\n    .dataframe tbody tr th {\n        vertical-align: top;\n    }\n\n    .dataframe thead th {\n        text-align: right;\n    }\n</style>\n<table border=\"1\" class=\"dataframe\">\n  <thead>\n    <tr style=\"text-align: right;\">\n      <th></th>\n      <th>X</th>\n      <th>Y</th>\n    </tr>\n  </thead>\n  <tbody>\n    <tr>\n      <th>0</th>\n      <td>1.5844</td>\n      <td>34.234</td>\n    </tr>\n    <tr>\n      <th>1</th>\n      <td>36.2470</td>\n      <td>22.155</td>\n    </tr>\n    <tr>\n      <th>2</th>\n      <td>7.2079</td>\n      <td>21.783</td>\n    </tr>\n    <tr>\n      <th>3</th>\n      <td>31.7960</td>\n      <td>39.651</td>\n    </tr>\n    <tr>\n      <th>4</th>\n      <td>39.4920</td>\n      <td>40.778</td>\n    </tr>\n  </tbody>\n</table>\n</div>"
     },
     "execution_count": 5,
     "metadata": {},
     "output_type": "execute_result"
    }
   ],
   "source": [
    "class_train = df_data['Class']\n",
    "x_train = df_data.drop(columns='Class')\n",
    "\n",
    "x_train.head()"
   ],
   "metadata": {
    "collapsed": false,
    "pycharm": {
     "name": "#%%\n"
    }
   }
  },
  {
   "cell_type": "code",
   "execution_count": 6,
   "outputs": [
    {
     "data": {
      "text/plain": "[2,\n 2,\n 2,\n 2,\n 2,\n 2,\n 1,\n 1,\n 1,\n 2,\n 2,\n 2,\n 2,\n 2,\n 2,\n 2,\n 2,\n 2,\n 3,\n 3,\n 3,\n 3,\n 3,\n 3,\n 2,\n 2,\n 2,\n 3,\n 3,\n 3,\n 1,\n 1,\n 1,\n 3,\n 3,\n 3,\n 1,\n 1,\n 3,\n 3,\n 3,\n 3,\n 3,\n 3,\n 3,\n 1,\n 1,\n 1,\n 3,\n 3,\n 3,\n 2,\n 2,\n 2,\n 3,\n 3,\n 2]"
     },
     "execution_count": 6,
     "metadata": {},
     "output_type": "execute_result"
    }
   ],
   "source": [
    "def My_KNN(test, K, x_train, class_train):\n",
    "    main_result = []\n",
    "    for i in range(len(test)):\n",
    "        dominant = []\n",
    "        point_distance = []\n",
    "        for j in range(len(x_train)):\n",
    "            distance_ = distance.euclidean(test.iloc[i], x_train.iloc[j])\n",
    "            point_distance.append([distance_, j])\n",
    "            point_distance.sort()\n",
    "            point_distance = point_distance[0:K]\n",
    "\n",
    "        for l, k in point_distance:\n",
    "            dominant.append(class_train.iloc[k])\n",
    "\n",
    "            main_result.append(Counter(dominant).most_common(1)[0][0])\n",
    "\n",
    "    return main_result\n",
    "\n",
    "\n",
    "y_predict = My_KNN(test, 3, x_train, class_train)\n",
    "y_predict\n"
   ],
   "metadata": {
    "collapsed": false,
    "pycharm": {
     "name": "#%%\n"
    }
   }
  }
 ],
 "metadata": {
  "kernelspec": {
   "display_name": "Python 3",
   "language": "python",
   "name": "python3"
  },
  "language_info": {
   "codemirror_mode": {
    "name": "ipython",
    "version": 2
   },
   "file_extension": ".py",
   "mimetype": "text/x-python",
   "name": "python",
   "nbconvert_exporter": "python",
   "pygments_lexer": "ipython2",
   "version": "2.7.6"
  }
 },
 "nbformat": 4,
 "nbformat_minor": 0
}